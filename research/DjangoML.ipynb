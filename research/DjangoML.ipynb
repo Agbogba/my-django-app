{
 "cells": [
  {
   "cell_type": "code",
   "execution_count": 4,
   "metadata": {},
   "outputs": [],
   "source": [
    "import numpy as np \n",
    "import pandas as pd \n",
    "dataset = pd.read_csv('Social_Network_Ads.csv') \n",
    "X = dataset.iloc[:, 1:4] \n",
    "y = dataset.iloc[:, 4] \n",
    "\n",
    "from sklearn.preprocessing import OrdinalEncoder \n",
    "encoder = OrdinalEncoder() \n",
    "X = encoder.fit_transform(X) \n",
    "\n",
    "from sklearn.model_selection import train_test_split \n",
    "X_train, X_test, y_train, y_test = train_test_split(X, y, test_size = 0.25, random_state = 1000) \n",
    "\n",
    "from sklearn.preprocessing import StandardScaler \n",
    "scaler = StandardScaler() \n",
    "X_train = scaler.fit_transform(X_train) \n",
    "X_test = scaler.transform(X_test) \n",
    "\n",
    "from sklearn.svm import SVC \n",
    "classifier = SVC(kernel = 'linear', random_state = 0) \n",
    "classifier.fit(X_train, y_train) \n",
    "y_pred = classifier.predict(X_test) \n",
    "\n",
    "from sklearn.metrics import confusion_matrix \n",
    "cm = confusion_matrix(y_test, y_pred)"
   ]
  },
  {
   "cell_type": "code",
   "execution_count": 8,
   "metadata": {},
   "outputs": [],
   "source": [
    "import pickle\n",
    "\n",
    "filename = 'Encoder.sav'\n",
    "pickle.dump(encoder, open(filename, 'wb'))\n",
    "\n",
    "filename = 'Scaler.sav' \n",
    "pickle.dump(scaler, open(filename, 'wb')) \n",
    "\n",
    "filename = 'Prediction.sav' \n",
    "pickle.dump(classifier, open(filename, 'wb'))"
   ]
  },
  {
   "cell_type": "code",
   "execution_count": null,
   "metadata": {},
   "outputs": [],
   "source": []
  }
 ],
 "metadata": {
  "kernelspec": {
   "display_name": "Python 3",
   "language": "python",
   "name": "python3"
  },
  "language_info": {
   "codemirror_mode": {
    "name": "ipython",
    "version": 3
   },
   "file_extension": ".py",
   "mimetype": "text/x-python",
   "name": "python",
   "nbconvert_exporter": "python",
   "pygments_lexer": "ipython3",
   "version": "3.8.5"
  }
 },
 "nbformat": 4,
 "nbformat_minor": 4
}
